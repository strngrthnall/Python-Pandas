{
 "cells": [
  {
   "cell_type": "code",
   "execution_count": 1,
   "source": [
    "import pandas as pd"
   ],
   "outputs": [],
   "metadata": {}
  },
  {
   "cell_type": "code",
   "execution_count": 2,
   "source": [
    "s = pd.Series(list('asdadasdarasdarasdarasdarasd'))\r\n",
    "s"
   ],
   "outputs": [
    {
     "output_type": "execute_result",
     "data": {
      "text/plain": [
       "0     a\n",
       "1     s\n",
       "2     d\n",
       "3     a\n",
       "4     d\n",
       "5     a\n",
       "6     s\n",
       "7     d\n",
       "8     a\n",
       "9     r\n",
       "10    a\n",
       "11    s\n",
       "12    d\n",
       "13    a\n",
       "14    r\n",
       "15    a\n",
       "16    s\n",
       "17    d\n",
       "18    a\n",
       "19    r\n",
       "20    a\n",
       "21    s\n",
       "22    d\n",
       "23    a\n",
       "24    r\n",
       "25    a\n",
       "26    s\n",
       "27    d\n",
       "dtype: object"
      ]
     },
     "metadata": {},
     "execution_count": 2
    }
   ],
   "metadata": {}
  },
  {
   "cell_type": "code",
   "execution_count": 3,
   "source": [
    "s.unique()"
   ],
   "outputs": [
    {
     "output_type": "execute_result",
     "data": {
      "text/plain": [
       "array(['a', 's', 'd', 'r'], dtype=object)"
      ]
     },
     "metadata": {},
     "execution_count": 3
    }
   ],
   "metadata": {}
  },
  {
   "cell_type": "code",
   "execution_count": 4,
   "source": [
    "s.value_counts()"
   ],
   "outputs": [
    {
     "output_type": "execute_result",
     "data": {
      "text/plain": [
       "a    11\n",
       "d     7\n",
       "s     6\n",
       "r     4\n",
       "dtype: int64"
      ]
     },
     "metadata": {},
     "execution_count": 4
    }
   ],
   "metadata": {}
  },
  {
   "cell_type": "code",
   "execution_count": 8,
   "source": [
    "dados = pd.read_csv('../data/aluguel_residencial.csv', sep = ';')"
   ],
   "outputs": [],
   "metadata": {}
  },
  {
   "cell_type": "code",
   "execution_count": 9,
   "source": [
    "dados.Tipo.unique()"
   ],
   "outputs": [
    {
     "output_type": "execute_result",
     "data": {
      "text/plain": [
       "array(['Quitinete', 'Casa', 'Apartamento', 'Casa de Condomínio',\n",
       "       'Casa de Vila'], dtype=object)"
      ]
     },
     "metadata": {},
     "execution_count": 9
    }
   ],
   "metadata": {}
  },
  {
   "cell_type": "code",
   "execution_count": 10,
   "source": [
    "dados.Tipo.value_counts()"
   ],
   "outputs": [
    {
     "output_type": "execute_result",
     "data": {
      "text/plain": [
       "Apartamento           18780\n",
       "Casa de Condomínio      996\n",
       "Casa                    965\n",
       "Quitinete               836\n",
       "Casa de Vila            249\n",
       "Name: Tipo, dtype: int64"
      ]
     },
     "metadata": {},
     "execution_count": 10
    }
   ],
   "metadata": {}
  },
  {
   "cell_type": "code",
   "execution_count": null,
   "source": [],
   "outputs": [],
   "metadata": {}
  }
 ],
 "metadata": {
  "orig_nbformat": 4,
  "language_info": {
   "name": "python",
   "version": "3.9.6",
   "mimetype": "text/x-python",
   "codemirror_mode": {
    "name": "ipython",
    "version": 3
   },
   "pygments_lexer": "ipython3",
   "nbconvert_exporter": "python",
   "file_extension": ".py"
  },
  "kernelspec": {
   "name": "python3",
   "display_name": "Python 3.9.6 64-bit (windows store)"
  },
  "interpreter": {
   "hash": "5b8f308924465f2179e69d653b80ba35d48a4f2127dd0e955dba06c7ac38bae4"
  }
 },
 "nbformat": 4,
 "nbformat_minor": 2
}